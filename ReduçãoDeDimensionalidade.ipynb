{
  "nbformat": 4,
  "nbformat_minor": 0,
  "metadata": {
    "colab": {
      "provenance": [],
      "authorship_tag": "ABX9TyMko8YPRV9U8Bx7Ii+Imer/",
      "include_colab_link": true
    },
    "kernelspec": {
      "name": "python3",
      "display_name": "Python 3"
    },
    "language_info": {
      "name": "python"
    }
  },
  "cells": [
    {
      "cell_type": "markdown",
      "metadata": {
        "id": "view-in-github",
        "colab_type": "text"
      },
      "source": [
        "<a href=\"https://colab.research.google.com/github/Ryanfs-ng/MachineLearning/blob/main/Redu%C3%A7%C3%A3oDeDimensionalidade.ipynb\" target=\"_parent\"><img src=\"https://colab.research.google.com/assets/colab-badge.svg\" alt=\"Open In Colab\"/></a>"
      ]
    },
    {
      "cell_type": "code",
      "execution_count": 3,
      "metadata": {
        "id": "6FcS55CQOM-R"
      },
      "outputs": [],
      "source": [
        "from PIL import Image"
      ]
    },
    {
      "cell_type": "code",
      "source": [
        "imagem = Image.open(\"botando.png\")\n",
        "pixels = imagem.load()\n",
        "largura, altura = imagem.size"
      ],
      "metadata": {
        "id": "RhoKWAGKO9VQ"
      },
      "execution_count": 10,
      "outputs": []
    },
    {
      "cell_type": "code",
      "source": [
        "imagem_cinza = Image.new(\"L\", (largura, altura))\n",
        "imagem_binaria = Image.new(\"1\", (largura, altura))"
      ],
      "metadata": {
        "id": "5nTs2FUDSHxs"
      },
      "execution_count": 11,
      "outputs": []
    },
    {
      "cell_type": "code",
      "source": [
        "for y in range(altura):\n",
        "    for x in range(largura):\n",
        "        r, g, b = pixels[x, y][:3]\n",
        "        cinza = int(0.299*r + 0.587*g + 0.114*b)\n",
        "        imagem_cinza.putpixel((x, y), cinza)"
      ],
      "metadata": {
        "id": "Q0Jp5i-lST5o"
      },
      "execution_count": 12,
      "outputs": []
    },
    {
      "cell_type": "code",
      "source": [
        "limiar = 127\n",
        "binario = 255 if cinza > limiar else 0\n",
        "imagem_binaria.putpixel((x, y), binario)"
      ],
      "metadata": {
        "id": "-QvOjfdSSovG"
      },
      "execution_count": 13,
      "outputs": []
    },
    {
      "cell_type": "code",
      "source": [
        "imagem_cinza.save(\"imagem_cinza.png\")\n",
        "imagem_binaria.save(\"imagem_binaria.png\")"
      ],
      "metadata": {
        "id": "qLsC0y_pS2ii"
      },
      "execution_count": 14,
      "outputs": []
    }
  ]
}